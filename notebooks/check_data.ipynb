{
 "cells": [
  {
   "cell_type": "code",
   "execution_count": 2,
   "metadata": {},
   "outputs": [],
   "source": [
    "from rich import print\n",
    "from datasets import load_from_disk"
   ]
  },
  {
   "cell_type": "code",
   "execution_count": 3,
   "metadata": {},
   "outputs": [
    {
     "data": {
      "text/html": [
       "<pre style=\"white-space:pre;overflow-x:auto;line-height:normal;font-family:Menlo,'DejaVu Sans Mono',consolas,'Courier New',monospace\"><span style=\"color: #800080; text-decoration-color: #800080; font-weight: bold\">Dataset</span><span style=\"font-weight: bold\">({</span>\n",
       "    features: <span style=\"font-weight: bold\">[</span><span style=\"color: #008000; text-decoration-color: #008000\">'item_id'</span>, <span style=\"color: #008000; text-decoration-color: #008000\">'bottom_text'</span>, <span style=\"color: #008000; text-decoration-color: #008000\">'outfit_texts'</span>, <span style=\"color: #008000; text-decoration-color: #008000\">'top_text'</span>, <span style=\"color: #008000; text-decoration-color: #008000\">'judgement_reason'</span>, <span style=\"color: #008000; text-decoration-color: #008000\">'judgement'</span>, \n",
       "<span style=\"color: #008000; text-decoration-color: #008000\">'bottom_image'</span>, <span style=\"color: #008000; text-decoration-color: #008000\">'top_image'</span>, <span style=\"color: #008000; text-decoration-color: #008000\">'bottom_processed_image'</span>, <span style=\"color: #008000; text-decoration-color: #008000\">'top_processed_image'</span>, <span style=\"color: #008000; text-decoration-color: #008000\">'bottom_input_ids'</span>, \n",
       "<span style=\"color: #008000; text-decoration-color: #008000\">'bottom_attention_mask'</span>, <span style=\"color: #008000; text-decoration-color: #008000\">'top_input_ids'</span>, <span style=\"color: #008000; text-decoration-color: #008000\">'top_attention_mask'</span><span style=\"font-weight: bold\">]</span>,\n",
       "    num_rows: <span style=\"color: #008080; text-decoration-color: #008080; font-weight: bold\">24129</span>\n",
       "<span style=\"font-weight: bold\">})</span>\n",
       "</pre>\n"
      ],
      "text/plain": [
       "\u001b[1;35mDataset\u001b[0m\u001b[1m(\u001b[0m\u001b[1m{\u001b[0m\n",
       "    features: \u001b[1m[\u001b[0m\u001b[32m'item_id'\u001b[0m, \u001b[32m'bottom_text'\u001b[0m, \u001b[32m'outfit_texts'\u001b[0m, \u001b[32m'top_text'\u001b[0m, \u001b[32m'judgement_reason'\u001b[0m, \u001b[32m'judgement'\u001b[0m, \n",
       "\u001b[32m'bottom_image'\u001b[0m, \u001b[32m'top_image'\u001b[0m, \u001b[32m'bottom_processed_image'\u001b[0m, \u001b[32m'top_processed_image'\u001b[0m, \u001b[32m'bottom_input_ids'\u001b[0m, \n",
       "\u001b[32m'bottom_attention_mask'\u001b[0m, \u001b[32m'top_input_ids'\u001b[0m, \u001b[32m'top_attention_mask'\u001b[0m\u001b[1m]\u001b[0m,\n",
       "    num_rows: \u001b[1;36m24129\u001b[0m\n",
       "\u001b[1m}\u001b[0m\u001b[1m)\u001b[0m\n"
      ]
     },
     "metadata": {},
     "output_type": "display_data"
    }
   ],
   "source": [
    "train_data = load_from_disk(\"../data/02_intermediate/evaluation3/train\")\n",
    "print(train_data)"
   ]
  },
  {
   "cell_type": "code",
   "execution_count": 4,
   "metadata": {},
   "outputs": [
    {
     "data": {
      "text/html": [
       "<pre style=\"white-space:pre;overflow-x:auto;line-height:normal;font-family:Menlo,'DejaVu Sans Mono',consolas,'Courier New',monospace\"><span style=\"color: #800080; text-decoration-color: #800080; font-weight: bold\">Dataset</span><span style=\"font-weight: bold\">({</span>\n",
       "    features: <span style=\"font-weight: bold\">[</span><span style=\"color: #008000; text-decoration-color: #008000\">'item_id'</span>, <span style=\"color: #008000; text-decoration-color: #008000\">'bottom_text'</span>, <span style=\"color: #008000; text-decoration-color: #008000\">'outfit_texts'</span>, <span style=\"color: #008000; text-decoration-color: #008000\">'top_text'</span>, <span style=\"color: #008000; text-decoration-color: #008000\">'judgement_reason'</span>, <span style=\"color: #008000; text-decoration-color: #008000\">'judgement'</span>, \n",
       "<span style=\"color: #008000; text-decoration-color: #008000\">'bottom_image'</span>, <span style=\"color: #008000; text-decoration-color: #008000\">'top_image'</span>, <span style=\"color: #008000; text-decoration-color: #008000\">'bottom_processed_image'</span>, <span style=\"color: #008000; text-decoration-color: #008000\">'top_processed_image'</span>, <span style=\"color: #008000; text-decoration-color: #008000\">'bottom_input_ids'</span>, \n",
       "<span style=\"color: #008000; text-decoration-color: #008000\">'bottom_attention_mask'</span>, <span style=\"color: #008000; text-decoration-color: #008000\">'top_input_ids'</span>, <span style=\"color: #008000; text-decoration-color: #008000\">'top_attention_mask'</span><span style=\"font-weight: bold\">]</span>,\n",
       "    num_rows: <span style=\"color: #008080; text-decoration-color: #008080; font-weight: bold\">5170</span>\n",
       "<span style=\"font-weight: bold\">})</span>\n",
       "</pre>\n"
      ],
      "text/plain": [
       "\u001b[1;35mDataset\u001b[0m\u001b[1m(\u001b[0m\u001b[1m{\u001b[0m\n",
       "    features: \u001b[1m[\u001b[0m\u001b[32m'item_id'\u001b[0m, \u001b[32m'bottom_text'\u001b[0m, \u001b[32m'outfit_texts'\u001b[0m, \u001b[32m'top_text'\u001b[0m, \u001b[32m'judgement_reason'\u001b[0m, \u001b[32m'judgement'\u001b[0m, \n",
       "\u001b[32m'bottom_image'\u001b[0m, \u001b[32m'top_image'\u001b[0m, \u001b[32m'bottom_processed_image'\u001b[0m, \u001b[32m'top_processed_image'\u001b[0m, \u001b[32m'bottom_input_ids'\u001b[0m, \n",
       "\u001b[32m'bottom_attention_mask'\u001b[0m, \u001b[32m'top_input_ids'\u001b[0m, \u001b[32m'top_attention_mask'\u001b[0m\u001b[1m]\u001b[0m,\n",
       "    num_rows: \u001b[1;36m5170\u001b[0m\n",
       "\u001b[1m}\u001b[0m\u001b[1m)\u001b[0m\n"
      ]
     },
     "metadata": {},
     "output_type": "display_data"
    }
   ],
   "source": [
    "valid_data = load_from_disk(\"../data/02_intermediate/evaluation3/valid\")\n",
    "print(valid_data)"
   ]
  },
  {
   "cell_type": "code",
   "execution_count": 5,
   "metadata": {},
   "outputs": [
    {
     "data": {
      "text/html": [
       "<pre style=\"white-space:pre;overflow-x:auto;line-height:normal;font-family:Menlo,'DejaVu Sans Mono',consolas,'Courier New',monospace\"><span style=\"color: #800080; text-decoration-color: #800080; font-weight: bold\">Dataset</span><span style=\"font-weight: bold\">({</span>\n",
       "    features: <span style=\"font-weight: bold\">[</span><span style=\"color: #008000; text-decoration-color: #008000\">'item_id'</span>, <span style=\"color: #008000; text-decoration-color: #008000\">'bottom_text'</span>, <span style=\"color: #008000; text-decoration-color: #008000\">'outfit_texts'</span>, <span style=\"color: #008000; text-decoration-color: #008000\">'top_text'</span>, <span style=\"color: #008000; text-decoration-color: #008000\">'judgement_reason'</span>, <span style=\"color: #008000; text-decoration-color: #008000\">'judgement'</span>, \n",
       "<span style=\"color: #008000; text-decoration-color: #008000\">'bottom_image'</span>, <span style=\"color: #008000; text-decoration-color: #008000\">'top_image'</span>, <span style=\"color: #008000; text-decoration-color: #008000\">'bottom_processed_image'</span>, <span style=\"color: #008000; text-decoration-color: #008000\">'top_processed_image'</span>, <span style=\"color: #008000; text-decoration-color: #008000\">'bottom_input_ids'</span>, \n",
       "<span style=\"color: #008000; text-decoration-color: #008000\">'bottom_attention_mask'</span>, <span style=\"color: #008000; text-decoration-color: #008000\">'top_input_ids'</span>, <span style=\"color: #008000; text-decoration-color: #008000\">'top_attention_mask'</span><span style=\"font-weight: bold\">]</span>,\n",
       "    num_rows: <span style=\"color: #008080; text-decoration-color: #008080; font-weight: bold\">5171</span>\n",
       "<span style=\"font-weight: bold\">})</span>\n",
       "</pre>\n"
      ],
      "text/plain": [
       "\u001b[1;35mDataset\u001b[0m\u001b[1m(\u001b[0m\u001b[1m{\u001b[0m\n",
       "    features: \u001b[1m[\u001b[0m\u001b[32m'item_id'\u001b[0m, \u001b[32m'bottom_text'\u001b[0m, \u001b[32m'outfit_texts'\u001b[0m, \u001b[32m'top_text'\u001b[0m, \u001b[32m'judgement_reason'\u001b[0m, \u001b[32m'judgement'\u001b[0m, \n",
       "\u001b[32m'bottom_image'\u001b[0m, \u001b[32m'top_image'\u001b[0m, \u001b[32m'bottom_processed_image'\u001b[0m, \u001b[32m'top_processed_image'\u001b[0m, \u001b[32m'bottom_input_ids'\u001b[0m, \n",
       "\u001b[32m'bottom_attention_mask'\u001b[0m, \u001b[32m'top_input_ids'\u001b[0m, \u001b[32m'top_attention_mask'\u001b[0m\u001b[1m]\u001b[0m,\n",
       "    num_rows: \u001b[1;36m5171\u001b[0m\n",
       "\u001b[1m}\u001b[0m\u001b[1m)\u001b[0m\n"
      ]
     },
     "metadata": {},
     "output_type": "display_data"
    }
   ],
   "source": [
    "test_data = load_from_disk(\"../data/02_intermediate/evaluation3/test\")\n",
    "print(test_data)"
   ]
  },
  {
   "cell_type": "code",
   "execution_count": null,
   "metadata": {},
   "outputs": [],
   "source": []
  }
 ],
 "metadata": {
  "kernelspec": {
   "display_name": ".venv",
   "language": "python",
   "name": "python3"
  },
  "language_info": {
   "codemirror_mode": {
    "name": "ipython",
    "version": 3
   },
   "file_extension": ".py",
   "mimetype": "text/x-python",
   "name": "python",
   "nbconvert_exporter": "python",
   "pygments_lexer": "ipython3",
   "version": "3.10.13"
  }
 },
 "nbformat": 4,
 "nbformat_minor": 2
}
